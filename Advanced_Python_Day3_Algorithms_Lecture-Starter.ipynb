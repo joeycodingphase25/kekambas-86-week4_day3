{
 "cells": [
  {
   "cell_type": "markdown",
   "metadata": {},
   "source": [
    "# Classic Algorithms"
   ]
  },
  {
   "cell_type": "markdown",
   "metadata": {},
   "source": [
    "## Tasks Today:\n",
    " \n",
    "1) <b>In-Place Algorithms</b> <br>\n",
    " &nbsp;&nbsp;&nbsp;&nbsp; a) Syntax <br>\n",
    " &nbsp;&nbsp;&nbsp;&nbsp; a) Out of Place Algorithm <br>\n",
    " &nbsp;&nbsp;&nbsp;&nbsp; b) In-Class Exercise #1 <br>\n",
    "2) <b>Two Pointers</b> <br>\n",
    "3) <b>Sorting Algorithms</b> <br>\n",
    "4) <b>Merge Sort</b> <br>\n",
    " &nbsp;&nbsp;&nbsp;&nbsp; a) Video on Algorithms <br>\n",
    " &nbsp;&nbsp;&nbsp;&nbsp; b) How it Works <br>\n",
    "5) <b>Exercises</b> <br>\n",
    " &nbsp;&nbsp;&nbsp;&nbsp; a) Exercise #1 - Reverse a List in Place Using an In-Place Algorithm <br>\n",
    " &nbsp;&nbsp;&nbsp;&nbsp; b) Exercise #2 - Find Distinct Words <br>\n",
    " &nbsp;&nbsp;&nbsp;&nbsp; c) Exercise #3 - Write a program to implement a Linear Search Algorithm. <br>"
   ]
  },
  {
   "cell_type": "markdown",
   "metadata": {},
   "source": [
    "## In-Place Algorithms"
   ]
  },
  {
   "cell_type": "markdown",
   "metadata": {},
   "source": [
    "#### Syntax"
   ]
  },
  {
   "cell_type": "code",
   "execution_count": null,
   "metadata": {},
   "outputs": [],
   "source": []
  },
  {
   "cell_type": "markdown",
   "metadata": {},
   "source": [
    "#### Out of Place Algorithm"
   ]
  },
  {
   "cell_type": "code",
   "execution_count": null,
   "metadata": {},
   "outputs": [],
   "source": [
    "\n"
   ]
  },
  {
   "cell_type": "markdown",
   "metadata": {},
   "source": [
    "#### In-Class Exercise #1 <br>\n",
    "<p>Write a function that takes in four arguments (list, index1, index2, index3), and swaps those three positions in the list passed in.</p>"
   ]
  },
  {
   "cell_type": "code",
   "execution_count": 4,
   "metadata": {},
   "outputs": [
    {
     "name": "stdout",
     "output_type": "stream",
     "text": [
      "before [10, 4, 3, 8, 4, 2, 6]\n",
      "after [2, 4, 10, 8, 4, 3, 6]\n"
     ]
    }
   ],
   "source": [
    "list1 = [10, 4, 3, 8, 4, 2, 6]\n",
    "\n",
    "def swap(list1, x, y, z):\n",
    "    list1[x],  list1[y],  list1[z] = list1[z],  list1[x],  list1[y]\n",
    "    return list1\n",
    "print('before', list1)\n",
    "swap(list1, 0, 2, 5)\n",
    "print('after', list1)"
   ]
  },
  {
   "cell_type": "markdown",
   "metadata": {},
   "source": [
    "## Two Pointers"
   ]
  },
  {
   "cell_type": "markdown",
   "metadata": {},
   "source": [
    "#### Syntax"
   ]
  },
  {
   "cell_type": "code",
   "execution_count": null,
   "metadata": {},
   "outputs": [],
   "source": []
  },
  {
   "cell_type": "markdown",
   "metadata": {},
   "source": [
    "#### Video of Algorithms <br>\n",
    "<p>Watch the video about algorithms.</p>\n",
    "\n",
    "https://www.youtube.com/watch?v=Q9HjeFD62Uk\n",
    "\n",
    "https://www.youtube.com/watch?v=kPRA0W1kECg\n",
    "\n",
    "https://www.youtube.com/watch?v=ZZuD6iUe3Pc"
   ]
  },
  {
   "cell_type": "markdown",
   "metadata": {},
   "source": [
    "# Sorting Algorithms"
   ]
  },
  {
   "cell_type": "code",
   "execution_count": null,
   "metadata": {},
   "outputs": [],
   "source": []
  },
  {
   "cell_type": "markdown",
   "metadata": {},
   "source": [
    "#### Bubble Sort\n",
    "\n",
    "Worst Case: O(n^2) Time - O(1) Space"
   ]
  },
  {
   "cell_type": "code",
   "execution_count": null,
   "metadata": {},
   "outputs": [],
   "source": []
  },
  {
   "cell_type": "markdown",
   "metadata": {},
   "source": [
    "##### Insertion Sort\n",
    "\n",
    "Worst Case: O(n^2) time - O(1)space"
   ]
  },
  {
   "cell_type": "code",
   "execution_count": null,
   "metadata": {},
   "outputs": [],
   "source": []
  },
  {
   "cell_type": "markdown",
   "metadata": {},
   "source": [
    "## Merge Sort"
   ]
  },
  {
   "cell_type": "markdown",
   "metadata": {},
   "source": [
    "#### How it Works"
   ]
  },
  {
   "cell_type": "code",
   "execution_count": null,
   "metadata": {},
   "outputs": [],
   "source": []
  },
  {
   "cell_type": "markdown",
   "metadata": {},
   "source": [
    "# Binary Search\n",
    "\n",
    "The Binary Search algorithm works by finding the number in the middle of a given array and comparing it to the target. Given that the array is sorted\n",
    "\n",
    "* The worst case run time for this algorithm is `O(log(n))`"
   ]
  },
  {
   "cell_type": "code",
   "execution_count": null,
   "metadata": {},
   "outputs": [],
   "source": []
  },
  {
   "cell_type": "markdown",
   "metadata": {},
   "source": [
    "# Exercises"
   ]
  },
  {
   "cell_type": "markdown",
   "metadata": {},
   "source": [
    "### Exercise #1 <br>\n",
    "<p>Reverse the list below in-place using an in-place algorithm.<br>For extra credit: Reverse the strings at the same time.</p>"
   ]
  },
  {
   "cell_type": "code",
   "execution_count": 22,
   "metadata": {},
   "outputs": [
    {
     "data": {
      "text/plain": [
       "['uhoh', 'is', 'a', 'sentence', '.', 'this']"
      ]
     },
     "execution_count": 22,
     "metadata": {},
     "output_type": "execute_result"
    }
   ],
   "source": [
    "words = ['this' , 'is', 'a', 'sentence', '.']\n",
    "# def swap(l):\n",
    "#     l[4],l[3],l[2],l[1],l[0] = l[0],l[1],l[2],l[3],l[4]\n",
    "#     return l\n",
    "# swap(words)\n",
    "\n",
    "# My attempt at a in-place func\n",
    "words = ['this' , 'is', 'a', 'sentence', '.', 'uhoh']\n",
    "def swap2(l):   # l is for list,  k is for end of list,  count ref k for beginn of list\n",
    "    count_up = len(l)-1\n",
    "    count_down = 0\n",
    "    k = len(l)-1    # k is equal to the length of\n",
    "    for x in range(len(l)-1):  # values of range(4) -> 0,1,2,3,4 *starts at zero\n",
    "        # while l[k-count_up] != l[k - count_down]:#conditional statement for defining the middle\n",
    "        while count_down < k:    # Fixed index out of range for EVEN numbers\n",
    "            l[k-count_up], l[k - count_down] = l[k - count_down], l[k-count_up]\n",
    "            count_up -= 1\n",
    "            count_down += 1\n",
    "        return l\n",
    "\n",
    "swap2(words) \n",
    "\n",
    "\n",
    "#Bonus ROUND *too hard\n",
    "\n",
    "# words = ['this' , 'is', 'a', 'sentence', '.', 'uhoh']\n",
    "# def swap2(l):   # l is for list,  k is for end of list,  count ref k for beginn of list\n",
    "#     count_up = len(l)-1\n",
    "#     count_down = 0\n",
    "#     k = len(l)-1    # k is equal to the length of AND SERVES AS A CONSTANT\n",
    "# #     for x in range(len(l)-1):  # values of range(4) -> 0,1,2,3,4 *starts at zero\n",
    "# #         # while l[k-count_up] != l[k - count_down]:#conditional statement for defining the middle\n",
    "# #         while count_down < k:    # Fixed index out of range for EVEN numbers\n",
    "# #             l[k-count_up], l[k - count_down] = l[k - count_down], l[k-count_up]\n",
    "# #             count_up -= 1\n",
    "# #             count_down += 1\n",
    "# #         return l\n",
    "# words = ['this' , 'is', 'a', 'sentence', '.', 'uhoh']\n",
    "# def swap2(l):   # l is for list,  k is for end of list,  count ref k for beginn of list\n",
    "#     for word in l:  #SImilar ideology to the word swap since str is iterable\n",
    "#         for x in range(len(word)-1):\n",
    "#             count_up1 = len(word)-1\n",
    "#             count_down1 = 0\n",
    "#             k1 = len(word)-1\n",
    "#             while count_down1 < k1:\n",
    "#                 word[k1-count_up1], word[k1 - count_down1] = word[k1 - count_down1], word[k1-count_up1]\n",
    "#                 count_up1 -= 1\n",
    "#                 count_down1 += 1\n",
    "#             return word  \n",
    "        \n",
    "\n",
    "# swap2(words)"
   ]
  },
  {
   "cell_type": "markdown",
   "metadata": {},
   "source": [
    "### Exercise #2 <br>\n",
    "<p>Create a function that counts how many distinct words are in the string below, then outputs a dictionary with the words as the key and the value as the amount of times that word appears in the string.<br>Should output:<br>{'a': 5,<br>\n",
    " 'abstract': 1,<br>\n",
    " 'an': 3,<br>\n",
    " 'array': 2, ... etc...</p>"
   ]
  },
  {
   "cell_type": "code",
   "execution_count": 24,
   "metadata": {},
   "outputs": [
    {
     "data": {
      "text/plain": [
       "{}"
      ]
     },
     "execution_count": 24,
     "metadata": {},
     "output_type": "execute_result"
    }
   ],
   "source": [
    "a_text = 'In computing, a hash table hash map is a data structure which implements an associative array abstract data type, a structure that can map keys to values. A hash table uses a hash function to compute an index into an array of buckets or slots from which the desired value can be found'\n",
    "\n",
    "a_text = 'In computing, a hash tabl'\n",
    "\n",
    "def find(lst):\n",
    "    dict1 = { }\n",
    "    for x in lst.split():\n",
    "        if x not in dict1:\n",
    "            dict1[x] = 1\n",
    "        else:\n",
    "            dict1[x] += 1  # with Tatyana hel[p]\n",
    "    return dict1\n",
    "\n",
    "print(find(a_text))\n",
    "\n",
    "# a_text = 'In computing, a hash tabl'\n",
    "# def find(lst):\n",
    "#     dict1 = {}\n",
    "#     list1 = [x for x in lst.split()]\n",
    "#     for x in list1:\n",
    "#         if x not in dict1:\n",
    "#             dict1[x] = 1\n",
    "#         for key, value in dict1:\n",
    "#             if x == key:\n",
    "#                 dict1[x] = value + 1\n",
    "#     return dict1\n",
    "\n",
    "# find(a_text)"
   ]
  },
  {
   "cell_type": "markdown",
   "metadata": {},
   "source": [
    "## Exercise #3\n",
    "\n",
    "Write a program to implement a Linear Search Algorithm. Also in a comment, write the Time Complexity of the following algorithm.\n",
    "\n",
    "#### Hint: Linear Searching will require searching a list for a given number. "
   ]
  },
  {
   "cell_type": "code",
   "execution_count": 21,
   "metadata": {},
   "outputs": [
    {
     "data": {
      "text/plain": [
       "'Index: 4, found input value: 44'"
      ]
     },
     "execution_count": 21,
     "metadata": {},
     "output_type": "execute_result"
    }
   ],
   "source": [
    "def lin_search(lst, target):\n",
    "    for x, y in enumerate(lst):\n",
    "        if y == target:\n",
    "            return f\"Index: {x}, found input value: {y}\"\n",
    "\n",
    "lin_search([13, 20, 33, 38, 44, 56, 77, 98], 44)\n",
    "\n",
    "# This is linear search because it iterates the ENTIRE list starting at index = 0 up to len(lst).\n",
    "# Larger lists will take thousands of years because time increases on a linear size scale"
   ]
  },
  {
   "cell_type": "code",
   "execution_count": null,
   "metadata": {},
   "outputs": [],
   "source": []
  }
 ],
 "metadata": {
  "kernelspec": {
   "display_name": "Python 3 (ipykernel)",
   "language": "python",
   "name": "python3"
  },
  "language_info": {
   "codemirror_mode": {
    "name": "ipython",
    "version": 3
   },
   "file_extension": ".py",
   "mimetype": "text/x-python",
   "name": "python",
   "nbconvert_exporter": "python",
   "pygments_lexer": "ipython3",
   "version": "3.9.7"
  }
 },
 "nbformat": 4,
 "nbformat_minor": 2
}
